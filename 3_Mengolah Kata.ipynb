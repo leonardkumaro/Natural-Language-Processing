{
 "cells": [
  {
   "cell_type": "markdown",
   "metadata": {},
   "source": [
    "# Word Embedding"
   ]
  },
  {
   "cell_type": "code",
   "execution_count": 1,
   "metadata": {},
   "outputs": [],
   "source": [
    "from gensim.models import Word2Vec\n",
    "from nltk.tokenize import word_tokenize\n",
    "import nltk"
   ]
  },
  {
   "cell_type": "code",
   "execution_count": 3,
   "metadata": {},
   "outputs": [
    {
     "name": "stderr",
     "output_type": "stream",
     "text": [
      "[nltk_data] Downloading package punkt to\n",
      "[nltk_data]     C:\\Users\\Pongo\\AppData\\Roaming\\nltk_data...\n",
      "[nltk_data]   Package punkt is already up-to-date!\n"
     ]
    },
    {
     "data": {
      "text/plain": [
       "True"
      ]
     },
     "execution_count": 3,
     "metadata": {},
     "output_type": "execute_result"
    }
   ],
   "source": [
    "nltk.download('punkt')"
   ]
  },
  {
   "cell_type": "code",
   "execution_count": 5,
   "metadata": {},
   "outputs": [
    {
     "name": "stderr",
     "output_type": "stream",
     "text": [
      "[nltk_data] Downloading package punkt_tab to\n",
      "[nltk_data]     C:\\Users\\Pongo\\AppData\\Roaming\\nltk_data...\n",
      "[nltk_data]   Unzipping tokenizers\\punkt_tab.zip.\n"
     ]
    },
    {
     "data": {
      "text/plain": [
       "True"
      ]
     },
     "execution_count": 5,
     "metadata": {},
     "output_type": "execute_result"
    }
   ],
   "source": [
    "nltk.download('punkt_tab')"
   ]
  },
  {
   "cell_type": "code",
   "execution_count": 9,
   "metadata": {},
   "outputs": [],
   "source": [
    "#mendefinisikan contoh data teks yang akan kita gunakan untuk melatih model Word2Vec.\n",
    "text_data = [\n",
    "    'Saya suka makan bakso',\n",
    "    'Bakso enak dan lezat',\n",
    "    'Makanan favorit saya adalah nasi goreng',\n",
    "    'Nasi goreng pedas adalah makanan favorit saya',\n",
    "    'Saya suka makanan manis seperti es krim',\n",
    "]"
   ]
  },
  {
   "cell_type": "code",
   "execution_count": null,
   "metadata": {},
   "outputs": [],
   "source": [
    "#melakukan tokenisasi pada teks tersebut\n",
    "tokenized_data = [word_tokenize(sentence.lower()) for sentence in text_data]"
   ]
  },
  {
   "cell_type": "code",
   "execution_count": null,
   "metadata": {},
   "outputs": [],
   "source": [
    "#embangun model Word2Vec menggunakan data teks yang sudah di-tokenisasi.\n",
    "model = Word2Vec(sentences=tokenized_data, vector_size=100, window=5, min_count=1, workers=4)\n",
    "#sentences: Data teks yang telah di-tokenisasi.\n",
    "# vector_size: Ukuran dari vektor representasi kata. Dalam kasus ini, 100.\n",
    "# window: Jumlah maksimum kata-kata yang dianggap konteks dekat dalam satu kalimat.\n",
    "# min_count: Jumlah minimum kemunculan sebuah kata dalam korpus agar kata tersebut diperhitungkan.\n",
    "# workers: Jumlah thread yang digunakan dalam proses pembangunan model."
   ]
  },
  {
   "cell_type": "code",
   "execution_count": null,
   "metadata": {},
   "outputs": [
    {
     "name": "stdout",
     "output_type": "stream",
     "text": [
      "Kata-kata yang mirip dengan 'bakso': [('manis', 0.2529163062572479), ('nasi', 0.17018672823905945), ('enak', 0.15006466209888458)]\n",
      "Vektor untuk 'bakso': [-0.00713882  0.00124156 -0.00717766 -0.00224369  0.00371885  0.00583258\n",
      "  0.00119832  0.00210183 -0.00411138  0.00722588 -0.00630644  0.00464789\n",
      " -0.00821918  0.00203677 -0.00497649 -0.00424685 -0.00310906  0.00565491\n",
      "  0.00579776 -0.00497439  0.00077378 -0.0084959   0.00780977  0.00925648\n",
      " -0.00274235  0.0007995   0.00074748  0.00547704 -0.00860589  0.00058358\n",
      "  0.00687019  0.00223141  0.00112457 -0.00932216  0.00848288 -0.0062632\n",
      " -0.00299165  0.00349458 -0.00077282  0.00141124  0.00178217 -0.00682961\n",
      " -0.00972456  0.00904072  0.00619895 -0.00691193  0.00340259  0.00020664\n",
      "  0.00475438 -0.00712046  0.00402629  0.00434812  0.00995727 -0.00447314\n",
      " -0.00138943 -0.00731689 -0.00969748 -0.00908048 -0.00102362 -0.00650396\n",
      "  0.0048507  -0.00616346  0.0025184   0.00073924 -0.00339173 -0.00097928\n",
      "  0.00997817  0.009146   -0.00446089  0.00908287 -0.00564239  0.00593029\n",
      " -0.00309763  0.00343232  0.00301726  0.00690047 -0.00237434  0.00877584\n",
      "  0.00759023 -0.00954767 -0.00800735 -0.00763848  0.0029233  -0.00279572\n",
      " -0.00692899 -0.00812822  0.0083084   0.0019909  -0.00932751 -0.00479288\n",
      "  0.00313647 -0.00471295  0.0052802  -0.00423267  0.00264146 -0.00804574\n",
      "  0.00620901  0.00481829  0.00078651  0.00301266]\n"
     ]
    }
   ],
   "source": [
    "# menggunakan vektor kata untuk kata-kata tertentu\n",
    "word_vectors = model.wv\n",
    " \n",
    "similar_words = word_vectors.most_similar('bakso', topn=3)\n",
    "print(\"Kata-kata yang mirip dengan 'bakso':\", similar_words)\n",
    " \n",
    "vector = word_vectors['bakso']\n",
    "print(\"Vektor untuk 'bakso':\", vector)"
   ]
  },
  {
   "cell_type": "markdown",
   "metadata": {},
   "source": [
    "# Term Frequency-Inverse Document Frequency (TF-IDF)"
   ]
  },
  {
   "cell_type": "code",
   "execution_count": 10,
   "metadata": {},
   "outputs": [],
   "source": [
    "from sklearn.feature_extraction.text import TfidfVectorizer"
   ]
  },
  {
   "cell_type": "code",
   "execution_count": 11,
   "metadata": {},
   "outputs": [],
   "source": [
    "documents = [\n",
    "    \"Saya suka makan bakso\",\n",
    "    \"Bakso enak dan lezat\",\n",
    "    \"Makanan favorit saya adalah nasi goreng\",\n",
    "    \"Nasi goreng pedas adalah makanan favorit saya\",\n",
    "    \"Saya suka makanan manis seperti es krim\",\n",
    "]"
   ]
  },
  {
   "cell_type": "code",
   "execution_count": 12,
   "metadata": {},
   "outputs": [],
   "source": [
    "# inisialisasi objek TfidfVectorizer.\n",
    "tfidf_vectorizer = TfidfVectorizer()"
   ]
  },
  {
   "cell_type": "code",
   "execution_count": 13,
   "metadata": {},
   "outputs": [],
   "source": [
    "# menghitung TF-IDF dari dokumen-dokumen tersebut.\n",
    "tfidf_matrix = tfidf_vectorizer.fit_transform(documents)"
   ]
  },
  {
   "cell_type": "code",
   "execution_count": 14,
   "metadata": {},
   "outputs": [
    {
     "name": "stdout",
     "output_type": "stream",
     "text": [
      "Vocabulary: {'saya': 14, 'suka': 16, 'makan': 9, 'bakso': 1, 'enak': 3, 'dan': 2, 'lezat': 8, 'makanan': 10, 'favorit': 5, 'adalah': 0, 'nasi': 12, 'goreng': 6, 'pedas': 13, 'manis': 11, 'seperti': 15, 'es': 4, 'krim': 7}\n"
     ]
    }
   ],
   "source": [
    "# melihat vocabulary (kata unik) yang dihasilkan oleh TfidfVectorizer.\n",
    "print(\"Vocabulary:\", tfidf_vectorizer.vocabulary_)"
   ]
  },
  {
   "cell_type": "code",
   "execution_count": 15,
   "metadata": {},
   "outputs": [
    {
     "name": "stdout",
     "output_type": "stream",
     "text": [
      "TF-IDF Matrix:\n",
      "[[0.         0.49851188 0.         0.         0.         0.\n",
      "  0.         0.         0.         0.61789262 0.         0.\n",
      "  0.         0.         0.34810993 0.         0.49851188]\n",
      " [0.         0.42224214 0.52335825 0.52335825 0.         0.\n",
      "  0.         0.         0.52335825 0.         0.         0.\n",
      "  0.         0.         0.         0.         0.        ]\n",
      " [0.43951606 0.         0.         0.         0.         0.43951606\n",
      "  0.43951606 0.         0.         0.         0.36483803 0.\n",
      "  0.43951606 0.         0.30691325 0.         0.        ]\n",
      " [0.38596041 0.         0.         0.         0.         0.38596041\n",
      "  0.38596041 0.         0.         0.         0.320382   0.\n",
      "  0.38596041 0.47838798 0.26951544 0.         0.        ]\n",
      " [0.         0.         0.         0.         0.42966246 0.\n",
      "  0.         0.42966246 0.         0.         0.28774996 0.42966246\n",
      "  0.         0.         0.24206433 0.42966246 0.34664897]]\n"
     ]
    }
   ],
   "source": [
    "# melihat hasil dari TF-IDF matrix dalam bentuk array.\n",
    "print(\"TF-IDF Matrix:\")\n",
    "print(tfidf_matrix.toarray())"
   ]
  },
  {
   "cell_type": "markdown",
   "metadata": {},
   "source": [
    "# Bag of Words (BoW)"
   ]
  },
  {
   "cell_type": "code",
   "execution_count": 16,
   "metadata": {},
   "outputs": [],
   "source": [
    "from sklearn.feature_extraction.text import CountVectorizer"
   ]
  },
  {
   "cell_type": "code",
   "execution_count": 17,
   "metadata": {},
   "outputs": [],
   "source": [
    "documents = [\n",
    "    \"Ini adalah contoh dokumen pertama.\",\n",
    "    \"Ini adalah dokumen kedua.\",\n",
    "    \"Ini adalah dokumen ketiga.\",\n",
    "    \"Ini adalah contoh contoh contoh.\"\n",
    "]\n"
   ]
  },
  {
   "cell_type": "code",
   "execution_count": 18,
   "metadata": {},
   "outputs": [],
   "source": [
    "# Inisialisasi objek CountVectorizer.\n",
    "vectorizer = CountVectorizer()"
   ]
  },
  {
   "cell_type": "code",
   "execution_count": 19,
   "metadata": {},
   "outputs": [],
   "source": [
    "# Melakukan fitting dan transformasi pada data teks menggunakan CountVectorizer. Proses ini akan menghitung frekuensi kemunculan setiap kata dalam setiap dokumen.\n",
    "bow_matrix = vectorizer.fit_transform(documents)"
   ]
  },
  {
   "cell_type": "code",
   "execution_count": 20,
   "metadata": {},
   "outputs": [
    {
     "data": {
      "text/plain": [
       "array([[1, 1, 1, 1, 0, 0, 1],\n",
       "       [1, 0, 1, 1, 1, 0, 0],\n",
       "       [1, 0, 1, 1, 0, 1, 0],\n",
       "       [1, 3, 0, 1, 0, 0, 0]], dtype=int64)"
      ]
     },
     "execution_count": 20,
     "metadata": {},
     "output_type": "execute_result"
    }
   ],
   "source": [
    "# Setelah transformasi, kita mendapatkan matriks Bag of Words (BoW), yang merupakan representasi numerik dari teks. Matriks ini berisi jumlah kemunculan setiap kata dalam setiap dokumen.\n",
    "bow_matrix.toarray()"
   ]
  },
  {
   "cell_type": "code",
   "execution_count": 21,
   "metadata": {},
   "outputs": [],
   "source": [
    "# fitur (kata-kata) yang dihasilkan oleh CountVectorizer.\n",
    "features = vectorizer.get_feature_names_out()"
   ]
  },
  {
   "cell_type": "code",
   "execution_count": 22,
   "metadata": {},
   "outputs": [
    {
     "name": "stdout",
     "output_type": "stream",
     "text": [
      "Matriks BoW:\n",
      "[[1 1 1 1 0 0 1]\n",
      " [1 0 1 1 1 0 0]\n",
      " [1 0 1 1 0 1 0]\n",
      " [1 3 0 1 0 0 0]]\n",
      "\n",
      "Daftar Fitur:\n",
      "['adalah' 'contoh' 'dokumen' 'ini' 'kedua' 'ketiga' 'pertama']\n"
     ]
    }
   ],
   "source": [
    "print(\"Matriks BoW:\")\n",
    "print(bow_matrix.toarray())\n",
    " \n",
    "print(\"\\nDaftar Fitur:\")\n",
    "print(features)"
   ]
  },
  {
   "cell_type": "markdown",
   "metadata": {},
   "source": [
    "# N-gram"
   ]
  },
  {
   "cell_type": "code",
   "execution_count": 23,
   "metadata": {},
   "outputs": [],
   "source": [
    "from nltk.util import ngrams"
   ]
  },
  {
   "cell_type": "code",
   "execution_count": 24,
   "metadata": {},
   "outputs": [],
   "source": [
    "sentences = [\n",
    "    \"Saya suka makan bakso enak di warung dekat rumah.\",\n",
    "    \"Nasi goreng adalah salah satu makanan favorit saya.\",\n",
    "    \"Es krim coklat sangat lezat dan menyegarkan.\",\n",
    "    \"Saat hari hujan, saya suka minum teh hangat.\",\n",
    "    \"Pemandangan pegunungan di pagi hari sangat indah.\",\n",
    "    \"Bola basket adalah olahraga favorit saya sejak kecil.\"\n",
    "]"
   ]
  },
  {
   "cell_type": "code",
   "execution_count": 26,
   "metadata": {},
   "outputs": [
    {
     "name": "stdout",
     "output_type": "stream",
     "text": [
      "\n",
      "Kalimat: Bola basket adalah olahraga favorit saya sejak kecil.\n",
      "1-gram:\n",
      "('Bola',)\n",
      "('basket',)\n",
      "('adalah',)\n",
      "('olahraga',)\n",
      "('favorit',)\n",
      "('saya',)\n",
      "('sejak',)\n",
      "('kecil.',)\n",
      "\n",
      "2-gram:\n",
      "('Bola', 'basket')\n",
      "('basket', 'adalah')\n",
      "('adalah', 'olahraga')\n",
      "('olahraga', 'favorit')\n",
      "('favorit', 'saya')\n",
      "('saya', 'sejak')\n",
      "('sejak', 'kecil.')\n",
      "\n",
      "3-gram:\n",
      "('Bola', 'basket', 'adalah')\n",
      "('basket', 'adalah', 'olahraga')\n",
      "('adalah', 'olahraga', 'favorit')\n",
      "('olahraga', 'favorit', 'saya')\n",
      "('favorit', 'saya', 'sejak')\n",
      "('saya', 'sejak', 'kecil.')\n"
     ]
    }
   ],
   "source": [
    "# Iterasi melalui setiap kalimat dalam daftar kalimat.\n",
    "for sentence in sentences:\n",
    "    words = sentence.split()\n",
    "    unigrams = list(ngrams(words, 1))\n",
    "    bigrams = list(ngrams(words, 2))\n",
    "    trigrams = list(ngrams(words, 3))\n",
    "    \n",
    "print(\"\\nKalimat:\", sentence)\n",
    "print(\"1-gram:\")\n",
    "for gram in unigrams:\n",
    "    print(gram)\n",
    "print(\"\\n2-gram:\")\n",
    "for gram in bigrams:\n",
    "    print(gram)\n",
    "print(\"\\n3-gram:\")\n",
    "for gram in trigrams:\n",
    "    print(gram)"
   ]
  },
  {
   "cell_type": "markdown",
   "metadata": {},
   "source": [
    "kita dapat membagi setiap kalimat menjadi unigram, bigram, dan trigram, serta menampilkan hasilnya. Dengan demikian, kita bisa melihat bahwa kata-kata pada teks tersebut berhubungan satu sama lain dalam berbagai tingkatan."
   ]
  }
 ],
 "metadata": {
  "kernelspec": {
   "display_name": "envsaya",
   "language": "python",
   "name": "python3"
  },
  "language_info": {
   "codemirror_mode": {
    "name": "ipython",
    "version": 3
   },
   "file_extension": ".py",
   "mimetype": "text/x-python",
   "name": "python",
   "nbconvert_exporter": "python",
   "pygments_lexer": "ipython3",
   "version": "3.12.2"
  }
 },
 "nbformat": 4,
 "nbformat_minor": 2
}
